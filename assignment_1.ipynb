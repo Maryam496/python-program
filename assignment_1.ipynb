{
  "nbformat": 4,
  "nbformat_minor": 0,
  "metadata": {
    "colab": {
      "name": "assignment 1",
      "provenance": [],
      "collapsed_sections": []
    },
    "kernelspec": {
      "name": "python3",
      "display_name": "Python 3"
    }
  },
  "cells": [
    {
      "cell_type": "markdown",
      "metadata": {
        "id": "wS7yfaRDvgeY",
        "colab_type": "text"
      },
      "source": [
        ""
      ]
    },
    {
      "cell_type": "code",
      "metadata": {
        "id": "HJcK8ERvtAWG",
        "colab_type": "code",
        "outputId": "3fcf7e71-01db-4c5e-842b-d3fc27b40903",
        "colab": {
          "base_uri": "https://localhost:8080/",
          "height": 119
        }
      },
      "source": [
        "line1= (\"Twinkle\"+ \",\" +\" \"+\"twinkle\" +\",\"+\" \"+\"little\" +\" \"+\"star\" +\",\")\n",
        "print(line1)\n",
        "line2= (\"      \"+\"How\" +\" \" +\"I\" + \" \" +\"wonder\"+\" \"+\"what\" + \" \" + \"you\" +\" \" +\"are\"+\"!\")\n",
        "print(line2)\n",
        "line3=(\"            \"+\"Up\" + \" \"+\"above\"+\" \" + \"the\" +\" \"+ \"world\" +\" \"+ \"so\" + \" \" +\"high\"+ \",\")\n",
        "print(line3)\n",
        "line4=(\"            \"+\"Like\"+ \" \" +\"a\"+ \" \" +\"diamond\"+ \" \" + \"in\"+ \" \" +\"the\"+\" \"+ \"sky\" +\".\")\n",
        "print(line4)\n",
        "line5=(\"Twinkle\"+\",\" +\" \"+ \"twinkle\"+\",\"+\" \" +\"little\"+\" \"+ \"star\"+\",\")\n",
        "print(line5)\n",
        "line6=(\"How\"+\" \"+ \"I\"+ \" \"+ \"wonder\"+\" \" +\"what\"+\" \" \"you\"+\" \"+ \"are\"+\"!\")\n",
        "print(line6)"
      ],
      "execution_count": 0,
      "outputs": [
        {
          "output_type": "stream",
          "text": [
            "Twinkle, twinkle, little star,\n",
            "      How I wonder what you are!\n",
            "            Up above the world so high,\n",
            "            Like a diamond in the sky.\n",
            "Twinkle, twinkle, little star,\n",
            "How I wonder what you are!\n"
          ],
          "name": "stdout"
        }
      ]
    },
    {
      "cell_type": "code",
      "metadata": {
        "id": "Fny-k5FlzInm",
        "colab_type": "code",
        "outputId": "b11de772-e478-45bf-91ec-0849a3d0e49f",
        "colab": {
          "base_uri": "https://localhost:8080/",
          "height": 34
        }
      },
      "source": [
        "import sys\n",
        "sys.version"
      ],
      "execution_count": 0,
      "outputs": [
        {
          "output_type": "execute_result",
          "data": {
            "text/plain": [
              "'3.6.8 (default, Oct  7 2019, 12:59:55) \\n[GCC 8.3.0]'"
            ]
          },
          "metadata": {
            "tags": []
          },
          "execution_count": 6
        }
      ]
    },
    {
      "cell_type": "code",
      "metadata": {
        "id": "yZUg_UJjzR6P",
        "colab_type": "code",
        "outputId": "0aa6ec68-2560-4170-c6a5-1c4e52b7ea6e",
        "colab": {
          "base_uri": "https://localhost:8080/",
          "height": 34
        }
      },
      "source": [
        "import datetime\n",
        "time=datetime.datetime.now()\n",
        "print (time)"
      ],
      "execution_count": 0,
      "outputs": [
        {
          "output_type": "stream",
          "text": [
            "2019-11-04 19:06:24.103821\n"
          ],
          "name": "stdout"
        }
      ]
    },
    {
      "cell_type": "code",
      "metadata": {
        "id": "ReoQaIihz0qa",
        "colab_type": "code",
        "outputId": "24c3669d-8e51-4477-c6e5-990a059e61df",
        "colab": {
          "base_uri": "https://localhost:8080/",
          "height": 51
        }
      },
      "source": [
        "radius=int(input('input your radius'))\n",
        "area=3.14*radius**2\n",
        "print (area)"
      ],
      "execution_count": 0,
      "outputs": [
        {
          "output_type": "stream",
          "text": [
            "input your radius2\n",
            "12.56\n"
          ],
          "name": "stdout"
        }
      ]
    },
    {
      "cell_type": "code",
      "metadata": {
        "id": "Yz41LlvY10r1",
        "colab_type": "code",
        "outputId": "12dec790-51ec-48c4-8263-3306a41463ca",
        "colab": {
          "base_uri": "https://localhost:8080/",
          "height": 34
        }
      },
      "source": [
        "a=2\n",
        "a+=2\n",
        "print(a)"
      ],
      "execution_count": 0,
      "outputs": [
        {
          "output_type": "stream",
          "text": [
            "4\n"
          ],
          "name": "stdout"
        }
      ]
    },
    {
      "cell_type": "code",
      "metadata": {
        "id": "izZB5jRv6zVB",
        "colab_type": "code",
        "outputId": "42deada6-507c-4639-f514-7141e6cb2190",
        "colab": {
          "base_uri": "https://localhost:8080/",
          "height": 34
        }
      },
      "source": [
        "first_name=(\"Maryam\")\n",
        "last_name=(\"Nadeem\")\n",
        "print(\"Nadeem\"+ \" \" +\"Maryam\")"
      ],
      "execution_count": 0,
      "outputs": [
        {
          "output_type": "stream",
          "text": [
            "Nadeem Maryam\n"
          ],
          "name": "stdout"
        }
      ]
    }
  ]
}